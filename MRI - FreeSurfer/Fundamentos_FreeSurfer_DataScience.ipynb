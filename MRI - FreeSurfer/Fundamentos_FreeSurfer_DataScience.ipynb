{
  "cells": [
    {
      "cell_type": "markdown",
      "metadata": {
        "id": "D3fQI7_f3ki-"
      },
      "source": [
        "# Workshop Inbrain \n",
        "\n",
        "Google Colab Notebook: https://colab.research.google.com/drive/1TSrDeLyoRAgDJfLwToPk7p-x3n305LLY#scrollTo=TBbrAogBhZRl\n",
        "\n",
        "Google Colab Pasta: https://drive.google.com/drive/u/0/folders/1d4u-tjEi8dCnG_PFCTj7AfkED09WVSLp\n"
      ]
    },
    {
      "cell_type": "markdown",
      "metadata": {
        "id": "TBbrAogBhZRl"
      },
      "source": [
        "## 1. Ambiente\n",
        "\n"
      ]
    },
    {
      "cell_type": "markdown",
      "metadata": {
        "id": "mwwTMJoN191y"
      },
      "source": [
        "\n",
        "\n",
        "*   Clone Repositório"
      ]
    },
    {
      "cell_type": "code",
      "execution_count": null,
      "metadata": {
        "id": "itM7mP0Y2HPK",
        "colab": {
          "base_uri": "https://localhost:8080/"
        },
        "outputId": "19081542-adfe-40fa-ce2c-7bf1c18f6e24"
      },
      "outputs": [
        {
          "output_type": "stream",
          "name": "stdout",
          "text": [
            "Cloning into 'inbrainlab'...\n",
            "remote: Enumerating objects: 5694, done.\u001b[K\n",
            "remote: Counting objects: 100% (230/230), done.\u001b[K\n",
            "remote: Compressing objects: 100% (150/150), done.\u001b[K\n",
            "remote: Total 5694 (delta 115), reused 185 (delta 78), pack-reused 5464\u001b[K\n",
            "Receiving objects: 100% (5694/5694), 2.70 GiB | 24.09 MiB/s, done.\n",
            "Resolving deltas: 100% (2101/2101), done.\n",
            "Updating files: 100% (6072/6072), done.\n"
          ]
        }
      ],
      "source": [
        "!git clone https://github.com/tamiresco/inbrainlab.git"
      ]
    },
    {
      "cell_type": "markdown",
      "metadata": {
        "id": "SiaDFq6CnV3L"
      },
      "source": [
        "*   Instalação das bibliotecas que o colab não tem. Se você não esta no google colab terá que instalar todas as bibliotecas usadas na cedula de importações."
      ]
    },
    {
      "cell_type": "code",
      "execution_count": null,
      "metadata": {
        "id": "1Y32vO9VhNAU",
        "colab": {
          "base_uri": "https://localhost:8080/"
        },
        "outputId": "e8a9837a-3dda-4670-f47e-0aac3a00c62e"
      },
      "outputs": [
        {
          "output_type": "stream",
          "name": "stdout",
          "text": [
            "Looking in indexes: https://pypi.org/simple, https://us-python.pkg.dev/colab-wheels/public/simple/\n",
            "Collecting nilearn\n",
            "  Downloading nilearn-0.10.0-py3-none-any.whl (9.6 MB)\n",
            "\u001b[2K     \u001b[90m━━━━━━━━━━━━━━━━━━━━━━━━━━━━━━━━━━━━━━━━\u001b[0m \u001b[32m9.6/9.6 MB\u001b[0m \u001b[31m55.8 MB/s\u001b[0m eta \u001b[36m0:00:00\u001b[0m\n",
            "\u001b[?25hRequirement already satisfied: pandas>=1.1.5 in /usr/local/lib/python3.9/dist-packages (from nilearn) (1.3.5)\n",
            "Collecting nibabel>=3.2.0\n",
            "  Downloading nibabel-5.0.1-py3-none-any.whl (3.3 MB)\n",
            "\u001b[2K     \u001b[90m━━━━━━━━━━━━━━━━━━━━━━━━━━━━━━━━━━━━━━━━\u001b[0m \u001b[32m3.3/3.3 MB\u001b[0m \u001b[31m77.4 MB/s\u001b[0m eta \u001b[36m0:00:00\u001b[0m\n",
            "\u001b[?25hRequirement already satisfied: scipy>=1.6.0 in /usr/local/lib/python3.9/dist-packages (from nilearn) (1.10.1)\n",
            "Requirement already satisfied: scikit-learn>=1.0.0 in /usr/local/lib/python3.9/dist-packages (from nilearn) (1.2.1)\n",
            "Requirement already satisfied: joblib>=1.0.0 in /usr/local/lib/python3.9/dist-packages (from nilearn) (1.2.0)\n",
            "Requirement already satisfied: numpy>=1.19.0 in /usr/local/lib/python3.9/dist-packages (from nilearn) (1.22.4)\n",
            "Requirement already satisfied: lxml in /usr/local/lib/python3.9/dist-packages (from nilearn) (4.9.2)\n",
            "Requirement already satisfied: requests>=2.25.0 in /usr/local/lib/python3.9/dist-packages (from nilearn) (2.25.1)\n",
            "Requirement already satisfied: packaging>=17 in /usr/local/lib/python3.9/dist-packages (from nibabel>=3.2.0->nilearn) (23.0)\n",
            "Requirement already satisfied: setuptools in /usr/local/lib/python3.9/dist-packages (from nibabel>=3.2.0->nilearn) (57.4.0)\n",
            "Requirement already satisfied: python-dateutil>=2.7.3 in /usr/local/lib/python3.9/dist-packages (from pandas>=1.1.5->nilearn) (2.8.2)\n",
            "Requirement already satisfied: pytz>=2017.3 in /usr/local/lib/python3.9/dist-packages (from pandas>=1.1.5->nilearn) (2022.7.1)\n",
            "Requirement already satisfied: urllib3<1.27,>=1.21.1 in /usr/local/lib/python3.9/dist-packages (from requests>=2.25.0->nilearn) (1.26.14)\n",
            "Requirement already satisfied: certifi>=2017.4.17 in /usr/local/lib/python3.9/dist-packages (from requests>=2.25.0->nilearn) (2022.12.7)\n",
            "Requirement already satisfied: idna<3,>=2.5 in /usr/local/lib/python3.9/dist-packages (from requests>=2.25.0->nilearn) (2.10)\n",
            "Requirement already satisfied: chardet<5,>=3.0.2 in /usr/local/lib/python3.9/dist-packages (from requests>=2.25.0->nilearn) (4.0.0)\n",
            "Requirement already satisfied: threadpoolctl>=2.0.0 in /usr/local/lib/python3.9/dist-packages (from scikit-learn>=1.0.0->nilearn) (3.1.0)\n",
            "Requirement already satisfied: six>=1.5 in /usr/local/lib/python3.9/dist-packages (from python-dateutil>=2.7.3->pandas>=1.1.5->nilearn) (1.15.0)\n",
            "Installing collected packages: nibabel, nilearn\n",
            "  Attempting uninstall: nibabel\n",
            "    Found existing installation: nibabel 3.0.2\n",
            "    Uninstalling nibabel-3.0.2:\n",
            "      Successfully uninstalled nibabel-3.0.2\n",
            "Successfully installed nibabel-5.0.1 nilearn-0.10.0\n",
            "Looking in indexes: https://pypi.org/simple, https://us-python.pkg.dev/colab-wheels/public/simple/\n",
            "Collecting Boruta\n",
            "  Downloading Boruta-0.3-py3-none-any.whl (56 kB)\n",
            "\u001b[2K     \u001b[90m━━━━━━━━━━━━━━━━━━━━━━━━━━━━━━━━━━━━━━━━\u001b[0m \u001b[32m56.6/56.6 KB\u001b[0m \u001b[31m3.4 MB/s\u001b[0m eta \u001b[36m0:00:00\u001b[0m\n",
            "\u001b[?25hRequirement already satisfied: scipy>=0.17.0 in /usr/local/lib/python3.9/dist-packages (from Boruta) (1.10.1)\n",
            "Requirement already satisfied: numpy>=1.10.4 in /usr/local/lib/python3.9/dist-packages (from Boruta) (1.22.4)\n",
            "Requirement already satisfied: scikit-learn>=0.17.1 in /usr/local/lib/python3.9/dist-packages (from Boruta) (1.2.1)\n",
            "Requirement already satisfied: threadpoolctl>=2.0.0 in /usr/local/lib/python3.9/dist-packages (from scikit-learn>=0.17.1->Boruta) (3.1.0)\n",
            "Requirement already satisfied: joblib>=1.1.1 in /usr/local/lib/python3.9/dist-packages (from scikit-learn>=0.17.1->Boruta) (1.2.0)\n",
            "Installing collected packages: Boruta\n",
            "Successfully installed Boruta-0.3\n",
            "Looking in indexes: https://pypi.org/simple, https://us-python.pkg.dev/colab-wheels/public/simple/\n",
            "Collecting shap\n",
            "  Downloading shap-0.41.0-cp39-cp39-manylinux_2_12_x86_64.manylinux2010_x86_64.whl (572 kB)\n",
            "\u001b[2K     \u001b[90m━━━━━━━━━━━━━━━━━━━━━━━━━━━━━━━━━━━━━━\u001b[0m \u001b[32m572.4/572.4 KB\u001b[0m \u001b[31m11.3 MB/s\u001b[0m eta \u001b[36m0:00:00\u001b[0m\n",
            "\u001b[?25hRequirement already satisfied: pandas in /usr/local/lib/python3.9/dist-packages (from shap) (1.3.5)\n",
            "Requirement already satisfied: numpy in /usr/local/lib/python3.9/dist-packages (from shap) (1.22.4)\n",
            "Requirement already satisfied: tqdm>4.25.0 in /usr/local/lib/python3.9/dist-packages (from shap) (4.65.0)\n",
            "Requirement already satisfied: packaging>20.9 in /usr/local/lib/python3.9/dist-packages (from shap) (23.0)\n",
            "Requirement already satisfied: cloudpickle in /usr/local/lib/python3.9/dist-packages (from shap) (2.2.1)\n",
            "Requirement already satisfied: scikit-learn in /usr/local/lib/python3.9/dist-packages (from shap) (1.2.1)\n",
            "Requirement already satisfied: scipy in /usr/local/lib/python3.9/dist-packages (from shap) (1.10.1)\n",
            "Collecting slicer==0.0.7\n",
            "  Downloading slicer-0.0.7-py3-none-any.whl (14 kB)\n",
            "Requirement already satisfied: numba in /usr/local/lib/python3.9/dist-packages (from shap) (0.56.4)\n",
            "Requirement already satisfied: setuptools in /usr/local/lib/python3.9/dist-packages (from numba->shap) (57.4.0)\n",
            "Requirement already satisfied: llvmlite<0.40,>=0.39.0dev0 in /usr/local/lib/python3.9/dist-packages (from numba->shap) (0.39.1)\n",
            "Requirement already satisfied: pytz>=2017.3 in /usr/local/lib/python3.9/dist-packages (from pandas->shap) (2022.7.1)\n",
            "Requirement already satisfied: python-dateutil>=2.7.3 in /usr/local/lib/python3.9/dist-packages (from pandas->shap) (2.8.2)\n",
            "Requirement already satisfied: joblib>=1.1.1 in /usr/local/lib/python3.9/dist-packages (from scikit-learn->shap) (1.2.0)\n",
            "Requirement already satisfied: threadpoolctl>=2.0.0 in /usr/local/lib/python3.9/dist-packages (from scikit-learn->shap) (3.1.0)\n",
            "Requirement already satisfied: six>=1.5 in /usr/local/lib/python3.9/dist-packages (from python-dateutil>=2.7.3->pandas->shap) (1.15.0)\n",
            "Installing collected packages: slicer, shap\n",
            "Successfully installed shap-0.41.0 slicer-0.0.7\n"
          ]
        }
      ],
      "source": [
        "!pip install nilearn\n",
        "!pip install Boruta\n",
        "!pip install shap"
      ]
    },
    {
      "cell_type": "markdown",
      "metadata": {
        "id": "caaAOh2iiAnp"
      },
      "source": [
        "*   Importação todas bibliotecas"
      ]
    },
    {
      "cell_type": "code",
      "execution_count": null,
      "metadata": {
        "id": "7ro0GmoDhAbs"
      },
      "outputs": [],
      "source": [
        "# manipulação matematica\n",
        "import pandas as pd\n",
        "import numpy as np\n",
        "\n",
        "# dados neurais\n",
        "from nilearn import surface, plotting, datasets\n",
        "\n",
        "# estatistica e machine learning\n",
        "from scipy import stats \n",
        "from boruta import BorutaPy\n",
        "from sklearn.ensemble import RandomForestRegressor\n",
        "from sklearn.metrics import r2_score, accuracy_score\n",
        "from sklearn.model_selection import train_test_split\n",
        "from lightgbm import LGBMRegressor, LGBMClassifier\n",
        "import shap\n",
        "\n",
        "# graficos\n",
        "import seaborn as sns\n",
        "from matplotlib import pyplot as plt"
      ]
    },
    {
      "cell_type": "markdown",
      "metadata": {
        "id": "5sd0b-xtiL5S"
      },
      "source": [
        "## 2. Dados"
      ]
    },
    {
      "cell_type": "markdown",
      "metadata": {
        "id": "DDGqxNSG7-ih"
      },
      "source": [
        "\n",
        "\n",
        "*   Caminhos (onde os dados estão?)\n"
      ]
    },
    {
      "cell_type": "code",
      "execution_count": null,
      "metadata": {
        "id": "HPUXT6WR8Fdg"
      },
      "outputs": [],
      "source": [
        "freesurfer_data_folder = \"/content/inbrainlab/Data/Nki_data/\"\n",
        "participant = \"A00008326\" # nome da pasta = numero do participante\n",
        "\n",
        "pial = \"/surf/lh.pial\"\n",
        "area = \"/surf/lh.area\"\n",
        "curv = \"/surf/lh.curv\"\n",
        "sulc = \"/surf/lh.sulc\"\n",
        "thickness = \"/surf/lh.thickness\"\n",
        "\n",
        "atlasDKT = \"/label/lh.aparc.DKTatlas.annot\"\n",
        "atlasEco = \"/label/lh.Eco.annot\"\n",
        "\n"
      ]
    },
    {
      "cell_type": "markdown",
      "metadata": {
        "id": "jpbjSSXEiknb"
      },
      "source": [
        "*   Abrir arquivos labels e surf"
      ]
    },
    {
      "cell_type": "code",
      "execution_count": null,
      "metadata": {
        "id": "KPe8iXJpi-LI",
        "colab": {
          "base_uri": "https://localhost:8080/"
        },
        "outputId": "7cceaa85-655b-49d3-c529-ae658f046250"
      },
      "outputs": [
        {
          "output_type": "execute_result",
          "data": {
            "text/plain": [
              "array([11, 11, 11, ..., 28, 28, 28], dtype=int32)"
            ]
          },
          "metadata": {},
          "execution_count": 8
        }
      ],
      "source": [
        "surface.load_surf_data(freesurfer_data_folder + participant + atlasDKT)"
      ]
    },
    {
      "cell_type": "code",
      "execution_count": null,
      "metadata": {
        "id": "Cj_kQ6vYiUAd",
        "colab": {
          "base_uri": "https://localhost:8080/"
        },
        "outputId": "1d02e9dc-bd53-47d0-9603-a77ec3e58836"
      },
      "outputs": [
        {
          "output_type": "execute_result",
          "data": {
            "text/plain": [
              "array([2.4047291, 2.637928 , 2.6400833, ..., 2.52332  , 2.505105 ,\n",
              "       2.4024878], dtype=float32)"
            ]
          },
          "metadata": {},
          "execution_count": 6
        }
      ],
      "source": [
        "surface.load_surf_data(freesurfer_data_folder + participant + thickness)"
      ]
    },
    {
      "cell_type": "markdown",
      "metadata": {
        "id": "4QG-OqBREypj"
      },
      "source": [
        "*   Vizualizar dados "
      ]
    },
    {
      "cell_type": "code",
      "execution_count": null,
      "metadata": {
        "id": "LbiuAa7Qfe-N",
        "colab": {
          "base_uri": "https://localhost:8080/",
          "height": 319
        },
        "outputId": "71567f61-17e0-4092-c468-75d9252f1f3b"
      },
      "outputs": [
        {
          "output_type": "display_data",
          "data": {
            "text/plain": [
              "<Figure size 338.4x288 with 2 Axes>"
            ],
            "image/png": "[encoded data removed]"
          },
          "metadata": {
            "needs_background": "light"
          }
        }
      ],
      "source": [
        "plotting.plot_surf_stat_map(surf_mesh = freesurfer_data_folder + participant + pial, \n",
        "                            bg_map = freesurfer_data_folder + participant + sulc,\n",
        "                            stat_map = freesurfer_data_folder + participant + thickness, \n",
        "                            \n",
        "                            hemi = 'left', \n",
        "                            view = 'lateral', #'lateral','medial','dorsal','ventral'\n",
        "                            bg_on_data = True,\n",
        "                            colorbar = True,\n",
        "                            #cmap = cmap\n",
        "                            ) \n",
        "plotting.show()"
      ]
    },
    {
      "cell_type": "code",
      "execution_count": null,
      "metadata": {
        "id": "rV4D95_mnT-N",
        "colab": {
          "base_uri": "https://localhost:8080/",
          "height": 319
        },
        "outputId": "932737f4-acd3-4ac5-9330-5c28adc91dc9"
      },
      "outputs": [
        {
          "output_type": "display_data",
          "data": {
            "text/plain": [
              "<Figure size 338.4x288 with 2 Axes>"
            ],
            "image/png": "[encoded data removed]"
          },
          "metadata": {
            "needs_background": "light"
          }
        }
      ],
      "source": [
        "plotting.plot_surf_stat_map(surf_mesh = freesurfer_data_folder + participant + pial, \n",
        "                            bg_map = freesurfer_data_folder + participant + sulc,\n",
        "                            stat_map = freesurfer_data_folder + participant + atlasDKT, \n",
        "                            hemi = 'left', \n",
        "                            view = 'lateral', #'lateral','medial','dorsal','ventral'\n",
        "                            bg_on_data = True,\n",
        "                            colorbar = True,\n",
        "                            symmetric_cbar = False,\n",
        "                            #cmap = cmap\n",
        "                            ) \n",
        "plotting.show()"
      ]
    },
    {
      "cell_type": "markdown",
      "metadata": {
        "id": "mnGbJ5-2jAaW"
      },
      "source": [
        "## 3. Pre-processamento dados "
      ]
    },
    {
      "cell_type": "markdown",
      "metadata": {
        "id": "W1UWXyGcFVct"
      },
      "source": [
        "Pre-processamento é a etapa de unir os dados e criar a tabela (dataframe / database) final como foi planejada. Essa etapa também é conhecida como data engineering. Os dados que saem do freesurfer devem ser unidos e organizados da forma que faz sentido para sua analise. A principal blioteca para se fazer isso é o pandas - concatena, agrupa, pivota, soma, etc.\n"
      ]
    },
    {
      "cell_type": "code",
      "execution_count": null,
      "metadata": {
        "id": "aOSH05QioFAl",
        "colab": {
          "base_uri": "https://localhost:8080/",
          "height": 423
        },
        "outputId": "6c88c904-03a0-43f5-b5be-1ff1ece246ce"
      },
      "outputs": [
        {
          "output_type": "execute_result",
          "data": {
            "text/plain": [
              "          0     1         2         3         4         5\n",
              "0      11.0  27.0  2.404729  0.482277 -0.068565 -4.607964\n",
              "1      11.0  27.0  2.637928  0.582267 -0.071342 -4.497762\n",
              "2      11.0  27.0  2.640083  0.635383 -0.099074 -4.450983\n",
              "3      11.0  27.0  2.556666  0.206755 -0.128096 -4.490544\n",
              "4      11.0  27.0  2.495451  0.330194 -0.153142 -4.453268\n",
              "...     ...   ...       ...       ...       ...       ...\n",
              "98994  28.0   6.0  2.264206  0.098202 -0.218100 -5.709995\n",
              "98995  28.0   6.0  2.611939  0.069412 -0.168744 -6.098005\n",
              "98996  28.0   6.0  2.523320  0.022037 -0.155368 -6.743779\n",
              "98997  28.0   6.0  2.505105  0.196639 -0.184539 -6.143419\n",
              "98998  28.0   6.0  2.402488  0.297375 -0.222942 -6.931061\n",
              "\n",
              "[98999 rows x 6 columns]"
            ],
            "text/html": [
              "\n",
              "  <div id=\"df-a40993be-4093-431a-aeca-fd97ce4e375f\">\n",
              "    <div class=\"colab-df-container\">\n",
              "      <div>\n",
              "<style scoped>\n",
              "    .dataframe tbody tr th:only-of-type {\n",
              "        vertical-align: middle;\n",
              "    }\n",
              "\n",
              "    .dataframe tbody tr th {\n",
              "        vertical-align: top;\n",
              "    }\n",
              "\n",
              "    .dataframe thead th {\n",
              "        text-align: right;\n",
              "    }\n",
              "</style>\n",
              "<table border=\"1\" class=\"dataframe\">\n",
              "  <thead>\n",
              "    <tr style=\"text-align: right;\">\n",
              "      <th></th>\n",
              "      <th>0</th>\n",
              "      <th>1</th>\n",
              "      <th>2</th>\n",
              "      <th>3</th>\n",
              "      <th>4</th>\n",
              "      <th>5</th>\n",
              "    </tr>\n",
              "  </thead>\n",
              "  <tbody>\n",
              "    <tr>\n",
              "      <th>0</th>\n",
              "      <td>11.0</td>\n",
              "      <td>27.0</td>\n",
              "      <td>2.404729</td>\n",
              "      <td>0.482277</td>\n",
              "      <td>-0.068565</td>\n",
              "      <td>-4.607964</td>\n",
              "    </tr>\n",
              "    <tr>\n",
              "      <th>1</th>\n",
              "      <td>11.0</td>\n",
              "      <td>27.0</td>\n",
              "      <td>2.637928</td>\n",
              "      <td>0.582267</td>\n",
              "      <td>-0.071342</td>\n",
              "      <td>-4.497762</td>\n",
              "    </tr>\n",
              "    <tr>\n",
              "      <th>2</th>\n",
              "      <td>11.0</td>\n",
              "      <td>27.0</td>\n",
              "      <td>2.640083</td>\n",
              "      <td>0.635383</td>\n",
              "      <td>-0.099074</td>\n",
              "      <td>-4.450983</td>\n",
              "    </tr>\n",
              "    <tr>\n",
              "      <th>3</th>\n",
              "      <td>11.0</td>\n",
              "      <td>27.0</td>\n",
              "      <td>2.556666</td>\n",
              "      <td>0.206755</td>\n",
              "      <td>-0.128096</td>\n",
              "      <td>-4.490544</td>\n",
              "    </tr>\n",
              "    <tr>\n",
              "      <th>4</th>\n",
              "      <td>11.0</td>\n",
              "      <td>27.0</td>\n",
              "      <td>2.495451</td>\n",
              "      <td>0.330194</td>\n",
              "      <td>-0.153142</td>\n",
              "      <td>-4.453268</td>\n",
              "    </tr>\n",
              "    <tr>\n",
              "      <th>...</th>\n",
              "      <td>...</td>\n",
              "      <td>...</td>\n",
              "      <td>...</td>\n",
              "      <td>...</td>\n",
              "      <td>...</td>\n",
              "      <td>...</td>\n",
              "    </tr>\n",
              "    <tr>\n",
              "      <th>98994</th>\n",
              "      <td>28.0</td>\n",
              "      <td>6.0</td>\n",
              "      <td>2.264206</td>\n",
              "      <td>0.098202</td>\n",
              "      <td>-0.218100</td>\n",
              "      <td>-5.709995</td>\n",
              "    </tr>\n",
              "    <tr>\n",
              "      <th>98995</th>\n",
              "      <td>28.0</td>\n",
              "      <td>6.0</td>\n",
              "      <td>2.611939</td>\n",
              "      <td>0.069412</td>\n",
              "      <td>-0.168744</td>\n",
              "      <td>-6.098005</td>\n",
              "    </tr>\n",
              "    <tr>\n",
              "      <th>98996</th>\n",
              "      <td>28.0</td>\n",
              "      <td>6.0</td>\n",
              "      <td>2.523320</td>\n",
              "      <td>0.022037</td>\n",
              "      <td>-0.155368</td>\n",
              "      <td>-6.743779</td>\n",
              "    </tr>\n",
              "    <tr>\n",
              "      <th>98997</th>\n",
              "      <td>28.0</td>\n",
              "      <td>6.0</td>\n",
              "      <td>2.505105</td>\n",
              "      <td>0.196639</td>\n",
              "      <td>-0.184539</td>\n",
              "      <td>-6.143419</td>\n",
              "    </tr>\n",
              "    <tr>\n",
              "      <th>98998</th>\n",
              "      <td>28.0</td>\n",
              "      <td>6.0</td>\n",
              "      <td>2.402488</td>\n",
              "      <td>0.297375</td>\n",
              "      <td>-0.222942</td>\n",
              "      <td>-6.931061</td>\n",
              "    </tr>\n",
              "  </tbody>\n",
              "</table>\n",
              "<p>98999 rows × 6 columns</p>\n",
              "</div>\n",
              "      <button class=\"colab-df-convert\" onclick=\"convertToInteractive('df-a40993be-4093-431a-aeca-fd97ce4e375f')\"\n",
              "              title=\"Convert this dataframe to an interactive table.\"\n",
              "              style=\"display:none;\">\n",
              "        \n",
              "  <svg xmlns=\"http://www.w3.org/2000/svg\" height=\"24px\"viewBox=\"0 0 24 24\"\n",
              "       width=\"24px\">\n",
              "    <path d=\"M0 0h24v24H0V0z\" fill=\"none\"/>\n",
              "    <path d=\"M18.56 5.44l.94 2.06.94-2.06 2.06-.94-2.06-.94-.94-2.06-.94 2.06-2.06.94zm-11 1L8.5 8.5l.94-2.06 2.06-.94-2.06-.94L8.5 2.5l-.94 2.06-2.06.94zm10 10l.94 2.06.94-2.06 2.06-.94-2.06-.94-.94-2.06-.94 2.06-2.06.94z\"/><path d=\"M17.41 7.96l-1.37-1.37c-.4-.4-.92-.59-1.43-.59-.52 0-1.04.2-1.43.59L10.3 9.45l-7.72 7.72c-.78.78-.78 2.05 0 2.83L4 21.41c.39.39.9.59 1.41.59.51 0 1.02-.2 1.41-.59l7.78-7.78 2.81-2.81c.8-.78.8-2.07 0-2.86zM5.41 20L4 18.59l7.72-7.72 1.47 1.35L5.41 20z\"/>\n",
              "  </svg>\n",
              "      </button>\n",
              "      \n",
              "  <style>\n",
              "    .colab-df-container {\n",
              "      display:flex;\n",
              "      flex-wrap:wrap;\n",
              "      gap: 12px;\n",
              "    }\n",
              "\n",
              "    .colab-df-convert {\n",
              "      background-color: #E8F0FE;\n",
              "      border: none;\n",
              "      border-radius: 50%;\n",
              "      cursor: pointer;\n",
              "      display: none;\n",
              "      fill: #1967D2;\n",
              "      height: 32px;\n",
              "      padding: 0 0 0 0;\n",
              "      width: 32px;\n",
              "    }\n",
              "\n",
              "    .colab-df-convert:hover {\n",
              "      background-color: #E2EBFA;\n",
              "      box-shadow: 0px 1px 2px rgba(60, 64, 67, 0.3), 0px 1px 3px 1px rgba(60, 64, 67, 0.15);\n",
              "      fill: #174EA6;\n",
              "    }\n",
              "\n",
              "    [theme=dark] .colab-df-convert {\n",
              "      background-color: #3B4455;\n",
              "      fill: #D2E3FC;\n",
              "    }\n",
              "\n",
              "    [theme=dark] .colab-df-convert:hover {\n",
              "      background-color: #434B5C;\n",
              "      box-shadow: 0px 1px 3px 1px rgba(0, 0, 0, 0.15);\n",
              "      filter: drop-shadow(0px 1px 2px rgba(0, 0, 0, 0.3));\n",
              "      fill: #FFFFFF;\n",
              "    }\n",
              "  </style>\n",
              "\n",
              "      <script>\n",
              "        const buttonEl =\n",
              "          document.querySelector('#df-a40993be-4093-431a-aeca-fd97ce4e375f button.colab-df-convert');\n",
              "        buttonEl.style.display =\n",
              "          google.colab.kernel.accessAllowed ? 'block' : 'none';\n",
              "\n",
              "        async function convertToInteractive(key) {\n",
              "          const element = document.querySelector('#df-a40993be-4093-431a-aeca-fd97ce4e375f');\n",
              "          const dataTable =\n",
              "            await google.colab.kernel.invokeFunction('convertToInteractive',\n",
              "                                                     [key], {});\n",
              "          if (!dataTable) return;\n",
              "\n",
              "          const docLinkHtml = 'Like what you see? Visit the ' +\n",
              "            '<a target=\"_blank\" href=https://colab.research.google.com/notebooks/data_table.ipynb>data table notebook</a>'\n",
              "            + ' to learn more about interactive tables.';\n",
              "          element.innerHTML = '';\n",
              "          dataTable['output_type'] = 'display_data';\n",
              "          await google.colab.output.renderOutput(dataTable, element);\n",
              "          const docLink = document.createElement('div');\n",
              "          docLink.innerHTML = docLinkHtml;\n",
              "          element.appendChild(docLink);\n",
              "        }\n",
              "      </script>\n",
              "    </div>\n",
              "  </div>\n",
              "  "
            ]
          },
          "metadata": {},
          "execution_count": 11
        }
      ],
      "source": [
        "df1 = pd.DataFrame([surface.load_surf_data(freesurfer_data_folder + participant + atlasDKT), \n",
        "                    surface.load_surf_data(freesurfer_data_folder + participant + atlasEco),\n",
        "                    surface.load_surf_data(freesurfer_data_folder + participant + thickness),\n",
        "                    surface.load_surf_data(freesurfer_data_folder + participant + area),\n",
        "                    surface.load_surf_data(freesurfer_data_folder + participant + curv),\n",
        "                    surface.load_surf_data(freesurfer_data_folder + participant + sulc)\n",
        "                    ]).T\n",
        "df1"
      ]
    },
    {
      "cell_type": "code",
      "execution_count": null,
      "metadata": {
        "id": "Ub5067dgsv6y",
        "colab": {
          "base_uri": "https://localhost:8080/",
          "height": 1000
        },
        "outputId": "793c307a-3d52-4517-8c6b-2441fe264b83"
      },
      "outputs": [
        {
          "output_type": "execute_result",
          "data": {
            "text/plain": [
              "               1         2         3         4         5\n",
              "0                                                       \n",
              "-1.0    0.859142  0.646121  0.651157 -0.007639  0.665902\n",
              " 2.0   14.815554  2.602491  0.657492 -0.005933  3.215815\n",
              " 3.0    3.141722  2.510801  0.681740 -0.018579  1.945136\n",
              " 5.0   28.029476  1.883912  0.659013 -0.054132 -2.997685\n",
              " 6.0   20.578289  3.553457  0.677571 -0.111249 -3.754268\n",
              " 7.0   39.521812  2.771636  0.689374 -0.032422  1.375436\n",
              " 8.0   35.718765  2.618126  0.676752 -0.038180  0.806759\n",
              " 9.0   41.842339  3.005312  0.687276 -0.069965 -1.551551\n",
              " 10.0  18.155577  2.703677  0.601876 -0.008262  0.125957\n",
              " 11.0  30.921558  2.515094  0.656634 -0.042012 -2.087881\n",
              " 12.0   9.319241  2.712376  0.673402 -0.048574 -1.057043\n",
              " 13.0  28.972378  1.864233  0.682613 -0.029610 -0.312702\n",
              " 14.0  10.704600  2.317247  0.668187 -0.043073 -2.767636\n",
              " 15.0  41.745495  3.040213  0.684419 -0.039450 -0.327232\n",
              " 16.0  19.396637  2.650393  0.634648 -0.065699  0.208070\n",
              " 17.0  12.448046  2.437038  0.628478 -0.036923 -0.709784\n",
              " 18.0   5.751368  2.510426  0.670341 -0.060030  1.400435\n",
              " 19.0   9.843221  2.336205  0.706063 -0.036439 -0.425501\n",
              " 20.0   8.130149  2.537068  0.689358 -0.051788 -0.631738\n",
              " 21.0  28.864153  1.360995  0.663323  0.091225  2.753034\n",
              " 22.0  31.182989  2.182977  0.644658 -0.055063 -0.784337\n",
              " 23.0  20.098648  2.597638  0.665157 -0.004751  3.196957\n",
              " 24.0   3.539051  2.596804  0.621819 -0.033866  0.476847\n",
              " 25.0  31.310839  2.427743  0.678566 -0.051924 -0.456582\n",
              " 26.0  12.577086  2.709728  0.645723 -0.059434  1.459709\n",
              " 27.0   5.581494  2.341179  0.696517 -0.049073  0.043604\n",
              " 28.0   5.019325  2.699529  0.695908 -0.044593 -1.364420\n",
              " 29.0  33.306789  2.387088  0.662575 -0.021812  1.198410\n",
              " 30.0  40.487431  2.899633  0.681322 -0.041332 -0.782961\n",
              " 31.0  34.849602  2.689577  0.674315 -0.041913  0.621617\n",
              " 34.0  39.623238  2.386453  0.548971 -0.098636  3.040323\n",
              " 35.0  18.001760  3.007194  0.669176  0.022336  6.707110"
            ],
            "text/html": [
              "\n",
              "  <div id=\"df-5fde347f-d225-4377-9d21-4c031379f232\">\n",
              "    <div class=\"colab-df-container\">\n",
              "      <div>\n",
              "<style scoped>\n",
              "    .dataframe tbody tr th:only-of-type {\n",
              "        vertical-align: middle;\n",
              "    }\n",
              "\n",
              "    .dataframe tbody tr th {\n",
              "        vertical-align: top;\n",
              "    }\n",
              "\n",
              "    .dataframe thead th {\n",
              "        text-align: right;\n",
              "    }\n",
              "</style>\n",
              "<table border=\"1\" class=\"dataframe\">\n",
              "  <thead>\n",
              "    <tr style=\"text-align: right;\">\n",
              "      <th></th>\n",
              "      <th>1</th>\n",
              "      <th>2</th>\n",
              "      <th>3</th>\n",
              "      <th>4</th>\n",
              "      <th>5</th>\n",
              "    </tr>\n",
              "    <tr>\n",
              "      <th>0</th>\n",
              "      <th></th>\n",
              "      <th></th>\n",
              "      <th></th>\n",
              "      <th></th>\n",
              "      <th></th>\n",
              "    </tr>\n",
              "  </thead>\n",
              "  <tbody>\n",
              "    <tr>\n",
              "      <th>-1.0</th>\n",
              "      <td>0.859142</td>\n",
              "      <td>0.646121</td>\n",
              "      <td>0.651157</td>\n",
              "      <td>-0.007639</td>\n",
              "      <td>0.665902</td>\n",
              "    </tr>\n",
              "    <tr>\n",
              "      <th>2.0</th>\n",
              "      <td>14.815554</td>\n",
              "      <td>2.602491</td>\n",
              "      <td>0.657492</td>\n",
              "      <td>-0.005933</td>\n",
              "      <td>3.215815</td>\n",
              "    </tr>\n",
              "    <tr>\n",
              "      <th>3.0</th>\n",
              "      <td>3.141722</td>\n",
              "      <td>2.510801</td>\n",
              "      <td>0.681740</td>\n",
              "      <td>-0.018579</td>\n",
              "      <td>1.945136</td>\n",
              "    </tr>\n",
              "    <tr>\n",
              "      <th>5.0</th>\n",
              "      <td>28.029476</td>\n",
              "      <td>1.883912</td>\n",
              "      <td>0.659013</td>\n",
              "      <td>-0.054132</td>\n",
              "      <td>-2.997685</td>\n",
              "    </tr>\n",
              "    <tr>\n",
              "      <th>6.0</th>\n",
              "      <td>20.578289</td>\n",
              "      <td>3.553457</td>\n",
              "      <td>0.677571</td>\n",
              "      <td>-0.111249</td>\n",
              "      <td>-3.754268</td>\n",
              "    </tr>\n",
              "    <tr>\n",
              "      <th>7.0</th>\n",
              "      <td>39.521812</td>\n",
              "      <td>2.771636</td>\n",
              "      <td>0.689374</td>\n",
              "      <td>-0.032422</td>\n",
              "      <td>1.375436</td>\n",
              "    </tr>\n",
              "    <tr>\n",
              "      <th>8.0</th>\n",
              "      <td>35.718765</td>\n",
              "      <td>2.618126</td>\n",
              "      <td>0.676752</td>\n",
              "      <td>-0.038180</td>\n",
              "      <td>0.806759</td>\n",
              "    </tr>\n",
              "    <tr>\n",
              "      <th>9.0</th>\n",
              "      <td>41.842339</td>\n",
              "      <td>3.005312</td>\n",
              "      <td>0.687276</td>\n",
              "      <td>-0.069965</td>\n",
              "      <td>-1.551551</td>\n",
              "    </tr>\n",
              "    <tr>\n",
              "      <th>10.0</th>\n",
              "      <td>18.155577</td>\n",
              "      <td>2.703677</td>\n",
              "      <td>0.601876</td>\n",
              "      <td>-0.008262</td>\n",
              "      <td>0.125957</td>\n",
              "    </tr>\n",
              "    <tr>\n",
              "      <th>11.0</th>\n",
              "      <td>30.921558</td>\n",
              "      <td>2.515094</td>\n",
              "      <td>0.656634</td>\n",
              "      <td>-0.042012</td>\n",
              "      <td>-2.087881</td>\n",
              "    </tr>\n",
              "    <tr>\n",
              "      <th>12.0</th>\n",
              "      <td>9.319241</td>\n",
              "      <td>2.712376</td>\n",
              "      <td>0.673402</td>\n",
              "      <td>-0.048574</td>\n",
              "      <td>-1.057043</td>\n",
              "    </tr>\n",
              "    <tr>\n",
              "      <th>13.0</th>\n",
              "      <td>28.972378</td>\n",
              "      <td>1.864233</td>\n",
              "      <td>0.682613</td>\n",
              "      <td>-0.029610</td>\n",
              "      <td>-0.312702</td>\n",
              "    </tr>\n",
              "    <tr>\n",
              "      <th>14.0</th>\n",
              "      <td>10.704600</td>\n",
              "      <td>2.317247</td>\n",
              "      <td>0.668187</td>\n",
              "      <td>-0.043073</td>\n",
              "      <td>-2.767636</td>\n",
              "    </tr>\n",
              "    <tr>\n",
              "      <th>15.0</th>\n",
              "      <td>41.745495</td>\n",
              "      <td>3.040213</td>\n",
              "      <td>0.684419</td>\n",
              "      <td>-0.039450</td>\n",
              "      <td>-0.327232</td>\n",
              "    </tr>\n",
              "    <tr>\n",
              "      <th>16.0</th>\n",
              "      <td>19.396637</td>\n",
              "      <td>2.650393</td>\n",
              "      <td>0.634648</td>\n",
              "      <td>-0.065699</td>\n",
              "      <td>0.208070</td>\n",
              "    </tr>\n",
              "    <tr>\n",
              "      <th>17.0</th>\n",
              "      <td>12.448046</td>\n",
              "      <td>2.437038</td>\n",
              "      <td>0.628478</td>\n",
              "      <td>-0.036923</td>\n",
              "      <td>-0.709784</td>\n",
              "    </tr>\n",
              "    <tr>\n",
              "      <th>18.0</th>\n",
              "      <td>5.751368</td>\n",
              "      <td>2.510426</td>\n",
              "      <td>0.670341</td>\n",
              "      <td>-0.060030</td>\n",
              "      <td>1.400435</td>\n",
              "    </tr>\n",
              "    <tr>\n",
              "      <th>19.0</th>\n",
              "      <td>9.843221</td>\n",
              "      <td>2.336205</td>\n",
              "      <td>0.706063</td>\n",
              "      <td>-0.036439</td>\n",
              "      <td>-0.425501</td>\n",
              "    </tr>\n",
              "    <tr>\n",
              "      <th>20.0</th>\n",
              "      <td>8.130149</td>\n",
              "      <td>2.537068</td>\n",
              "      <td>0.689358</td>\n",
              "      <td>-0.051788</td>\n",
              "      <td>-0.631738</td>\n",
              "    </tr>\n",
              "    <tr>\n",
              "      <th>21.0</th>\n",
              "      <td>28.864153</td>\n",
              "      <td>1.360995</td>\n",
              "      <td>0.663323</td>\n",
              "      <td>0.091225</td>\n",
              "      <td>2.753034</td>\n",
              "    </tr>\n",
              "    <tr>\n",
              "      <th>22.0</th>\n",
              "      <td>31.182989</td>\n",
              "      <td>2.182977</td>\n",
              "      <td>0.644658</td>\n",
              "      <td>-0.055063</td>\n",
              "      <td>-0.784337</td>\n",
              "    </tr>\n",
              "    <tr>\n",
              "      <th>23.0</th>\n",
              "      <td>20.098648</td>\n",
              "      <td>2.597638</td>\n",
              "      <td>0.665157</td>\n",
              "      <td>-0.004751</td>\n",
              "      <td>3.196957</td>\n",
              "    </tr>\n",
              "    <tr>\n",
              "      <th>24.0</th>\n",
              "      <td>3.539051</td>\n",
              "      <td>2.596804</td>\n",
              "      <td>0.621819</td>\n",
              "      <td>-0.033866</td>\n",
              "      <td>0.476847</td>\n",
              "    </tr>\n",
              "    <tr>\n",
              "      <th>25.0</th>\n",
              "      <td>31.310839</td>\n",
              "      <td>2.427743</td>\n",
              "      <td>0.678566</td>\n",
              "      <td>-0.051924</td>\n",
              "      <td>-0.456582</td>\n",
              "    </tr>\n",
              "    <tr>\n",
              "      <th>26.0</th>\n",
              "      <td>12.577086</td>\n",
              "      <td>2.709728</td>\n",
              "      <td>0.645723</td>\n",
              "      <td>-0.059434</td>\n",
              "      <td>1.459709</td>\n",
              "    </tr>\n",
              "    <tr>\n",
              "      <th>27.0</th>\n",
              "      <td>5.581494</td>\n",
              "      <td>2.341179</td>\n",
              "      <td>0.696517</td>\n",
              "      <td>-0.049073</td>\n",
              "      <td>0.043604</td>\n",
              "    </tr>\n",
              "    <tr>\n",
              "      <th>28.0</th>\n",
              "      <td>5.019325</td>\n",
              "      <td>2.699529</td>\n",
              "      <td>0.695908</td>\n",
              "      <td>-0.044593</td>\n",
              "      <td>-1.364420</td>\n",
              "    </tr>\n",
              "    <tr>\n",
              "      <th>29.0</th>\n",
              "      <td>33.306789</td>\n",
              "      <td>2.387088</td>\n",
              "      <td>0.662575</td>\n",
              "      <td>-0.021812</td>\n",
              "      <td>1.198410</td>\n",
              "    </tr>\n",
              "    <tr>\n",
              "      <th>30.0</th>\n",
              "      <td>40.487431</td>\n",
              "      <td>2.899633</td>\n",
              "      <td>0.681322</td>\n",
              "      <td>-0.041332</td>\n",
              "      <td>-0.782961</td>\n",
              "    </tr>\n",
              "    <tr>\n",
              "      <th>31.0</th>\n",
              "      <td>34.849602</td>\n",
              "      <td>2.689577</td>\n",
              "      <td>0.674315</td>\n",
              "      <td>-0.041913</td>\n",
              "      <td>0.621617</td>\n",
              "    </tr>\n",
              "    <tr>\n",
              "      <th>34.0</th>\n",
              "      <td>39.623238</td>\n",
              "      <td>2.386453</td>\n",
              "      <td>0.548971</td>\n",
              "      <td>-0.098636</td>\n",
              "      <td>3.040323</td>\n",
              "    </tr>\n",
              "    <tr>\n",
              "      <th>35.0</th>\n",
              "      <td>18.001760</td>\n",
              "      <td>3.007194</td>\n",
              "      <td>0.669176</td>\n",
              "      <td>0.022336</td>\n",
              "      <td>6.707110</td>\n",
              "    </tr>\n",
              "  </tbody>\n",
              "</table>\n",
              "</div>\n",
              "      <button class=\"colab-df-convert\" onclick=\"convertToInteractive('df-5fde347f-d225-4377-9d21-4c031379f232')\"\n",
              "              title=\"Convert this dataframe to an interactive table.\"\n",
              "              style=\"display:none;\">\n",
              "        \n",
              "  <svg xmlns=\"http://www.w3.org/2000/svg\" height=\"24px\"viewBox=\"0 0 24 24\"\n",
              "       width=\"24px\">\n",
              "    <path d=\"M0 0h24v24H0V0z\" fill=\"none\"/>\n",
              "    <path d=\"M18.56 5.44l.94 2.06.94-2.06 2.06-.94-2.06-.94-.94-2.06-.94 2.06-2.06.94zm-11 1L8.5 8.5l.94-2.06 2.06-.94-2.06-.94L8.5 2.5l-.94 2.06-2.06.94zm10 10l.94 2.06.94-2.06 2.06-.94-2.06-.94-.94-2.06-.94 2.06-2.06.94z\"/><path d=\"M17.41 7.96l-1.37-1.37c-.4-.4-.92-.59-1.43-.59-.52 0-1.04.2-1.43.59L10.3 9.45l-7.72 7.72c-.78.78-.78 2.05 0 2.83L4 21.41c.39.39.9.59 1.41.59.51 0 1.02-.2 1.41-.59l7.78-7.78 2.81-2.81c.8-.78.8-2.07 0-2.86zM5.41 20L4 18.59l7.72-7.72 1.47 1.35L5.41 20z\"/>\n",
              "  </svg>\n",
              "      </button>\n",
              "      \n",
              "  <style>\n",
              "    .colab-df-container {\n",
              "      display:flex;\n",
              "      flex-wrap:wrap;\n",
              "      gap: 12px;\n",
              "    }\n",
              "\n",
              "    .colab-df-convert {\n",
              "      background-color: #E8F0FE;\n",
              "      border: none;\n",
              "      border-radius: 50%;\n",
              "      cursor: pointer;\n",
              "      display: none;\n",
              "      fill: #1967D2;\n",
              "      height: 32px;\n",
              "      padding: 0 0 0 0;\n",
              "      width: 32px;\n",
              "    }\n",
              "\n",
              "    .colab-df-convert:hover {\n",
              "      background-color: #E2EBFA;\n",
              "      box-shadow: 0px 1px 2px rgba(60, 64, 67, 0.3), 0px 1px 3px 1px rgba(60, 64, 67, 0.15);\n",
              "      fill: #174EA6;\n",
              "    }\n",
              "\n",
              "    [theme=dark] .colab-df-convert {\n",
              "      background-color: #3B4455;\n",
              "      fill: #D2E3FC;\n",
              "    }\n",
              "\n",
              "    [theme=dark] .colab-df-convert:hover {\n",
              "      background-color: #434B5C;\n",
              "      box-shadow: 0px 1px 3px 1px rgba(0, 0, 0, 0.15);\n",
              "      filter: drop-shadow(0px 1px 2px rgba(0, 0, 0, 0.3));\n",
              "      fill: #FFFFFF;\n",
              "    }\n",
              "  </style>\n",
              "\n",
              "      <script>\n",
              "        const buttonEl =\n",
              "          document.querySelector('#df-5fde347f-d225-4377-9d21-4c031379f232 button.colab-df-convert');\n",
              "        buttonEl.style.display =\n",
              "          google.colab.kernel.accessAllowed ? 'block' : 'none';\n",
              "\n",
              "        async function convertToInteractive(key) {\n",
              "          const element = document.querySelector('#df-5fde347f-d225-4377-9d21-4c031379f232');\n",
              "          const dataTable =\n",
              "            await google.colab.kernel.invokeFunction('convertToInteractive',\n",
              "                                                     [key], {});\n",
              "          if (!dataTable) return;\n",
              "\n",
              "          const docLinkHtml = 'Like what you see? Visit the ' +\n",
              "            '<a target=\"_blank\" href=https://colab.research.google.com/notebooks/data_table.ipynb>data table notebook</a>'\n",
              "            + ' to learn more about interactive tables.';\n",
              "          element.innerHTML = '';\n",
              "          dataTable['output_type'] = 'display_data';\n",
              "          await google.colab.output.renderOutput(dataTable, element);\n",
              "          const docLink = document.createElement('div');\n",
              "          docLink.innerHTML = docLinkHtml;\n",
              "          element.appendChild(docLink);\n",
              "        }\n",
              "      </script>\n",
              "    </div>\n",
              "  </div>\n",
              "  "
            ]
          },
          "metadata": {},
          "execution_count": 12
        }
      ],
      "source": [
        "df2 = df1.groupby(by=0).mean()\n",
        "df2"
      ]
    },
    {
      "cell_type": "markdown",
      "source": [
        " Abaixo esta uma tabela (dataframe / database) pronta. O codigo da criacao desse dataframe :\n",
        "\n",
        "\n",
        "*   https://github.com/tamiresco/inbrainlab/blob/main/Notebooks/1_Thinning_Processing.ipynb\n",
        "*   https://github.com/tamiresco/inbrainlab/blob/main/Scripts/freesuferdata_to_dataframe.py\n",
        "*   https://github.com/tamiresco/inbrainlab/blob/main/Scripts/preprocessing.py\n"
      ],
      "metadata": {
        "id": "3LzRrJsVS4J9"
      }
    },
    {
      "cell_type": "code",
      "execution_count": null,
      "metadata": {
        "id": "A4ON5y1_teQL",
        "colab": {
          "base_uri": "https://localhost:8080/",
          "height": 539
        },
        "outputId": "05b6344f-03b1-4c5d-d06a-afce2e41dbd5"
      },
      "outputs": [
        {
          "output_type": "execute_result",
          "data": {
            "text/plain": [
              "    atlas_x  Hemisphere  Lobe  Thickness at 10y.o.  Thickness at 80y.o.  \\\n",
              "0      10.0         0.0   5.0                 2.79                 2.31   \n",
              "1      10.0         1.0   5.0                 2.71                 2.32   \n",
              "2      11.0         0.0   4.0                 2.38                 2.03   \n",
              "3      11.0         1.0   4.0                 2.46                 2.02   \n",
              "4      12.0         0.0   1.0                 3.07                 2.44   \n",
              "..      ...         ...   ...                  ...                  ...   \n",
              "57      7.0         1.0   6.0                 2.99                 2.39   \n",
              "58      8.0         0.0   5.0                 2.86                 2.30   \n",
              "59      8.0         1.0   5.0                 2.91                 2.25   \n",
              "60      9.0         0.0   6.0                 3.13                 2.74   \n",
              "61      9.0         1.0   6.0                 3.09                 2.67   \n",
              "\n",
              "    Curvature  Layer I thickness  Layer II thickness  Layer III thickness  \\\n",
              "0    0.027868           0.265759            0.209925             0.683139   \n",
              "1   -0.316633           0.266913            0.213113             0.686479   \n",
              "2   -1.789133           0.246774            0.217012             0.626959   \n",
              "3   -1.538292           0.252469            0.222896             0.642910   \n",
              "4   -0.786044           0.289976            0.232227             0.759549   \n",
              "..        ...                ...                 ...                  ...   \n",
              "57   1.413498           0.296503            0.253690             0.766168   \n",
              "58   0.349702           0.270865            0.240233             0.734222   \n",
              "59   0.388265           0.277568            0.243510             0.740049   \n",
              "60  -1.068148           0.307015            0.271097             0.815716   \n",
              "61  -0.850811           0.302977            0.265229             0.799362   \n",
              "\n",
              "    Layer IV thickness  ...  bigbrain_layer_5  bigbrain_layer_6  \\\n",
              "0             0.238146  ...          0.207884          0.219806   \n",
              "1             0.244217  ...          0.206124          0.217499   \n",
              "2             0.232772  ...          0.198371          0.204295   \n",
              "3             0.230441  ...          0.199737          0.203571   \n",
              "4             0.189658  ...          0.221332          0.241490   \n",
              "..                 ...  ...               ...               ...   \n",
              "57            0.252695  ...          0.215642          0.213113   \n",
              "58            0.223049  ...          0.209349          0.212879   \n",
              "59            0.227318  ...          0.209818          0.212891   \n",
              "60            0.250913  ...          0.220707          0.214901   \n",
              "61            0.249875  ...          0.220501          0.215502   \n",
              "\n",
              "    Global thinning  Global thinning normalized  structure  r2_spatial  \\\n",
              "0              0.48                    0.172043       10.0    0.732556   \n",
              "1              0.39                    0.143911       10.0    0.732556   \n",
              "2              0.35                    0.147059       11.0   -0.010000   \n",
              "3              0.44                    0.178862       11.0   -0.010000   \n",
              "4              0.63                    0.205212       12.0    0.341499   \n",
              "..              ...                         ...        ...         ...   \n",
              "57             0.60                    0.200669        7.0    0.630474   \n",
              "58             0.56                    0.195804        8.0    0.362650   \n",
              "59             0.66                    0.226804        8.0    0.362650   \n",
              "60             0.39                    0.124601        9.0    0.579714   \n",
              "61             0.42                    0.135922        9.0    0.579714   \n",
              "\n",
              "    r2_temporal  r2_complete          structure_name  atlas_y  \n",
              "0      0.983556     0.910130       Isthmus Cingulate     10.0  \n",
              "1      0.983556     0.910130       Isthmus Cingulate     10.0  \n",
              "2      0.610331     0.758266       Lateral Occipital     11.0  \n",
              "3      0.610331     0.758266       Lateral Occipital     11.0  \n",
              "4      0.880375     0.932925  Lateral Orbito Frontal     12.0  \n",
              "..          ...          ...                     ...      ...  \n",
              "57     0.960891     0.955868                Fusiform      7.0  \n",
              "58     0.858828     0.943772       Inferior Parietal      8.0  \n",
              "59     0.858828     0.943772       Inferior Parietal      8.0  \n",
              "60     0.898125     0.893792       Inferior Temporal      9.0  \n",
              "61     0.898125     0.893792       Inferior Temporal      9.0  \n",
              "\n",
              "[62 rows x 26 columns]"
            ],
            "text/html": [
              "\n",
              "  <div id=\"df-292148e9-b6e0-4370-bd60-3dfc7e3d88a8\">\n",
              "    <div class=\"colab-df-container\">\n",
              "      <div>\n",
              "<style scoped>\n",
              "    .dataframe tbody tr th:only-of-type {\n",
              "        vertical-align: middle;\n",
              "    }\n",
              "\n",
              "    .dataframe tbody tr th {\n",
              "        vertical-align: top;\n",
              "    }\n",
              "\n",
              "    .dataframe thead th {\n",
              "        text-align: right;\n",
              "    }\n",
              "</style>\n",
              "<table border=\"1\" class=\"dataframe\">\n",
              "  <thead>\n",
              "    <tr style=\"text-align: right;\">\n",
              "      <th></th>\n",
              "      <th>atlas_x</th>\n",
              "      <th>Hemisphere</th>\n",
              "      <th>Lobe</th>\n",
              "      <th>Thickness at 10y.o.</th>\n",
              "      <th>Thickness at 80y.o.</th>\n",
              "      <th>Curvature</th>\n",
              "      <th>Layer I thickness</th>\n",
              "      <th>Layer II thickness</th>\n",
              "      <th>Layer III thickness</th>\n",
              "      <th>Layer IV thickness</th>\n",
              "      <th>...</th>\n",
              "      <th>bigbrain_layer_5</th>\n",
              "      <th>bigbrain_layer_6</th>\n",
              "      <th>Global thinning</th>\n",
              "      <th>Global thinning normalized</th>\n",
              "      <th>structure</th>\n",
              "      <th>r2_spatial</th>\n",
              "      <th>r2_temporal</th>\n",
              "      <th>r2_complete</th>\n",
              "      <th>structure_name</th>\n",
              "      <th>atlas_y</th>\n",
              "    </tr>\n",
              "  </thead>\n",
              "  <tbody>\n",
              "    <tr>\n",
              "      <th>0</th>\n",
              "      <td>10.0</td>\n",
              "      <td>0.0</td>\n",
              "      <td>5.0</td>\n",
              "      <td>2.79</td>\n",
              "      <td>2.31</td>\n",
              "      <td>0.027868</td>\n",
              "      <td>0.265759</td>\n",
              "      <td>0.209925</td>\n",
              "      <td>0.683139</td>\n",
              "      <td>0.238146</td>\n",
              "      <td>...</td>\n",
              "      <td>0.207884</td>\n",
              "      <td>0.219806</td>\n",
              "      <td>0.48</td>\n",
              "      <td>0.172043</td>\n",
              "      <td>10.0</td>\n",
              "      <td>0.732556</td>\n",
              "      <td>0.983556</td>\n",
              "      <td>0.910130</td>\n",
              "      <td>Isthmus Cingulate</td>\n",
              "      <td>10.0</td>\n",
              "    </tr>\n",
              "    <tr>\n",
              "      <th>1</th>\n",
              "      <td>10.0</td>\n",
              "      <td>1.0</td>\n",
              "      <td>5.0</td>\n",
              "      <td>2.71</td>\n",
              "      <td>2.32</td>\n",
              "      <td>-0.316633</td>\n",
              "      <td>0.266913</td>\n",
              "      <td>0.213113</td>\n",
              "      <td>0.686479</td>\n",
              "      <td>0.244217</td>\n",
              "      <td>...</td>\n",
              "      <td>0.206124</td>\n",
              "      <td>0.217499</td>\n",
              "      <td>0.39</td>\n",
              "      <td>0.143911</td>\n",
              "      <td>10.0</td>\n",
              "      <td>0.732556</td>\n",
              "      <td>0.983556</td>\n",
              "      <td>0.910130</td>\n",
              "      <td>Isthmus Cingulate</td>\n",
              "      <td>10.0</td>\n",
              "    </tr>\n",
              "    <tr>\n",
              "      <th>2</th>\n",
              "      <td>11.0</td>\n",
              "      <td>0.0</td>\n",
              "      <td>4.0</td>\n",
              "      <td>2.38</td>\n",
              "      <td>2.03</td>\n",
              "      <td>-1.789133</td>\n",
              "      <td>0.246774</td>\n",
              "      <td>0.217012</td>\n",
              "      <td>0.626959</td>\n",
              "      <td>0.232772</td>\n",
              "      <td>...</td>\n",
              "      <td>0.198371</td>\n",
              "      <td>0.204295</td>\n",
              "      <td>0.35</td>\n",
              "      <td>0.147059</td>\n",
              "      <td>11.0</td>\n",
              "      <td>-0.010000</td>\n",
              "      <td>0.610331</td>\n",
              "      <td>0.758266</td>\n",
              "      <td>Lateral Occipital</td>\n",
              "      <td>11.0</td>\n",
              "    </tr>\n",
              "    <tr>\n",
              "      <th>3</th>\n",
              "      <td>11.0</td>\n",
              "      <td>1.0</td>\n",
              "      <td>4.0</td>\n",
              "      <td>2.46</td>\n",
              "      <td>2.02</td>\n",
              "      <td>-1.538292</td>\n",
              "      <td>0.252469</td>\n",
              "      <td>0.222896</td>\n",
              "      <td>0.642910</td>\n",
              "      <td>0.230441</td>\n",
              "      <td>...</td>\n",
              "      <td>0.199737</td>\n",
              "      <td>0.203571</td>\n",
              "      <td>0.44</td>\n",
              "      <td>0.178862</td>\n",
              "      <td>11.0</td>\n",
              "      <td>-0.010000</td>\n",
              "      <td>0.610331</td>\n",
              "      <td>0.758266</td>\n",
              "      <td>Lateral Occipital</td>\n",
              "      <td>11.0</td>\n",
              "    </tr>\n",
              "    <tr>\n",
              "      <th>4</th>\n",
              "      <td>12.0</td>\n",
              "      <td>0.0</td>\n",
              "      <td>1.0</td>\n",
              "      <td>3.07</td>\n",
              "      <td>2.44</td>\n",
              "      <td>-0.786044</td>\n",
              "      <td>0.289976</td>\n",
              "      <td>0.232227</td>\n",
              "      <td>0.759549</td>\n",
              "      <td>0.189658</td>\n",
              "      <td>...</td>\n",
              "      <td>0.221332</td>\n",
              "      <td>0.241490</td>\n",
              "      <td>0.63</td>\n",
              "      <td>0.205212</td>\n",
              "      <td>12.0</td>\n",
              "      <td>0.341499</td>\n",
              "      <td>0.880375</td>\n",
              "      <td>0.932925</td>\n",
              "      <td>Lateral Orbito Frontal</td>\n",
              "      <td>12.0</td>\n",
              "    </tr>\n",
              "    <tr>\n",
              "      <th>...</th>\n",
              "      <td>...</td>\n",
              "      <td>...</td>\n",
              "      <td>...</td>\n",
              "      <td>...</td>\n",
              "      <td>...</td>\n",
              "      <td>...</td>\n",
              "      <td>...</td>\n",
              "      <td>...</td>\n",
              "      <td>...</td>\n",
              "      <td>...</td>\n",
              "      <td>...</td>\n",
              "      <td>...</td>\n",
              "      <td>...</td>\n",
              "      <td>...</td>\n",
              "      <td>...</td>\n",
              "      <td>...</td>\n",
              "      <td>...</td>\n",
              "      <td>...</td>\n",
              "      <td>...</td>\n",
              "      <td>...</td>\n",
              "      <td>...</td>\n",
              "    </tr>\n",
              "    <tr>\n",
              "      <th>57</th>\n",
              "      <td>7.0</td>\n",
              "      <td>1.0</td>\n",
              "      <td>6.0</td>\n",
              "      <td>2.99</td>\n",
              "      <td>2.39</td>\n",
              "      <td>1.413498</td>\n",
              "      <td>0.296503</td>\n",
              "      <td>0.253690</td>\n",
              "      <td>0.766168</td>\n",
              "      <td>0.252695</td>\n",
              "      <td>...</td>\n",
              "      <td>0.215642</td>\n",
              "      <td>0.213113</td>\n",
              "      <td>0.60</td>\n",
              "      <td>0.200669</td>\n",
              "      <td>7.0</td>\n",
              "      <td>0.630474</td>\n",
              "      <td>0.960891</td>\n",
              "      <td>0.955868</td>\n",
              "      <td>Fusiform</td>\n",
              "      <td>7.0</td>\n",
              "    </tr>\n",
              "    <tr>\n",
              "      <th>58</th>\n",
              "      <td>8.0</td>\n",
              "      <td>0.0</td>\n",
              "      <td>5.0</td>\n",
              "      <td>2.86</td>\n",
              "      <td>2.30</td>\n",
              "      <td>0.349702</td>\n",
              "      <td>0.270865</td>\n",
              "      <td>0.240233</td>\n",
              "      <td>0.734222</td>\n",
              "      <td>0.223049</td>\n",
              "      <td>...</td>\n",
              "      <td>0.209349</td>\n",
              "      <td>0.212879</td>\n",
              "      <td>0.56</td>\n",
              "      <td>0.195804</td>\n",
              "      <td>8.0</td>\n",
              "      <td>0.362650</td>\n",
              "      <td>0.858828</td>\n",
              "      <td>0.943772</td>\n",
              "      <td>Inferior Parietal</td>\n",
              "      <td>8.0</td>\n",
              "    </tr>\n",
              "    <tr>\n",
              "      <th>59</th>\n",
              "      <td>8.0</td>\n",
              "      <td>1.0</td>\n",
              "      <td>5.0</td>\n",
              "      <td>2.91</td>\n",
              "      <td>2.25</td>\n",
              "      <td>0.388265</td>\n",
              "      <td>0.277568</td>\n",
              "      <td>0.243510</td>\n",
              "      <td>0.740049</td>\n",
              "      <td>0.227318</td>\n",
              "      <td>...</td>\n",
              "      <td>0.209818</td>\n",
              "      <td>0.212891</td>\n",
              "      <td>0.66</td>\n",
              "      <td>0.226804</td>\n",
              "      <td>8.0</td>\n",
              "      <td>0.362650</td>\n",
              "      <td>0.858828</td>\n",
              "      <td>0.943772</td>\n",
              "      <td>Inferior Parietal</td>\n",
              "      <td>8.0</td>\n",
              "    </tr>\n",
              "    <tr>\n",
              "      <th>60</th>\n",
              "      <td>9.0</td>\n",
              "      <td>0.0</td>\n",
              "      <td>6.0</td>\n",
              "      <td>3.13</td>\n",
              "      <td>2.74</td>\n",
              "      <td>-1.068148</td>\n",
              "      <td>0.307015</td>\n",
              "      <td>0.271097</td>\n",
              "      <td>0.815716</td>\n",
              "      <td>0.250913</td>\n",
              "      <td>...</td>\n",
              "      <td>0.220707</td>\n",
              "      <td>0.214901</td>\n",
              "      <td>0.39</td>\n",
              "      <td>0.124601</td>\n",
              "      <td>9.0</td>\n",
              "      <td>0.579714</td>\n",
              "      <td>0.898125</td>\n",
              "      <td>0.893792</td>\n",
              "      <td>Inferior Temporal</td>\n",
              "      <td>9.0</td>\n",
              "    </tr>\n",
              "    <tr>\n",
              "      <th>61</th>\n",
              "      <td>9.0</td>\n",
              "      <td>1.0</td>\n",
              "      <td>6.0</td>\n",
              "      <td>3.09</td>\n",
              "      <td>2.67</td>\n",
              "      <td>-0.850811</td>\n",
              "      <td>0.302977</td>\n",
              "      <td>0.265229</td>\n",
              "      <td>0.799362</td>\n",
              "      <td>0.249875</td>\n",
              "      <td>...</td>\n",
              "      <td>0.220501</td>\n",
              "      <td>0.215502</td>\n",
              "      <td>0.42</td>\n",
              "      <td>0.135922</td>\n",
              "      <td>9.0</td>\n",
              "      <td>0.579714</td>\n",
              "      <td>0.898125</td>\n",
              "      <td>0.893792</td>\n",
              "      <td>Inferior Temporal</td>\n",
              "      <td>9.0</td>\n",
              "    </tr>\n",
              "  </tbody>\n",
              "</table>\n",
              "<p>62 rows × 26 columns</p>\n",
              "</div>\n",
              "      <button class=\"colab-df-convert\" onclick=\"convertToInteractive('df-292148e9-b6e0-4370-bd60-3dfc7e3d88a8')\"\n",
              "              title=\"Convert this dataframe to an interactive table.\"\n",
              "              style=\"display:none;\">\n",
              "        \n",
              "  <svg xmlns=\"http://www.w3.org/2000/svg\" height=\"24px\"viewBox=\"0 0 24 24\"\n",
              "       width=\"24px\">\n",
              "    <path d=\"M0 0h24v24H0V0z\" fill=\"none\"/>\n",
              "    <path d=\"M18.56 5.44l.94 2.06.94-2.06 2.06-.94-2.06-.94-.94-2.06-.94 2.06-2.06.94zm-11 1L8.5 8.5l.94-2.06 2.06-.94-2.06-.94L8.5 2.5l-.94 2.06-2.06.94zm10 10l.94 2.06.94-2.06 2.06-.94-2.06-.94-.94-2.06-.94 2.06-2.06.94z\"/><path d=\"M17.41 7.96l-1.37-1.37c-.4-.4-.92-.59-1.43-.59-.52 0-1.04.2-1.43.59L10.3 9.45l-7.72 7.72c-.78.78-.78 2.05 0 2.83L4 21.41c.39.39.9.59 1.41.59.51 0 1.02-.2 1.41-.59l7.78-7.78 2.81-2.81c.8-.78.8-2.07 0-2.86zM5.41 20L4 18.59l7.72-7.72 1.47 1.35L5.41 20z\"/>\n",
              "  </svg>\n",
              "      </button>\n",
              "      \n",
              "  <style>\n",
              "    .colab-df-container {\n",
              "      display:flex;\n",
              "      flex-wrap:wrap;\n",
              "      gap: 12px;\n",
              "    }\n",
              "\n",
              "    .colab-df-convert {\n",
              "      background-color: #E8F0FE;\n",
              "      border: none;\n",
              "      border-radius: 50%;\n",
              "      cursor: pointer;\n",
              "      display: none;\n",
              "      fill: #1967D2;\n",
              "      height: 32px;\n",
              "      padding: 0 0 0 0;\n",
              "      width: 32px;\n",
              "    }\n",
              "\n",
              "    .colab-df-convert:hover {\n",
              "      background-color: #E2EBFA;\n",
              "      box-shadow: 0px 1px 2px rgba(60, 64, 67, 0.3), 0px 1px 3px 1px rgba(60, 64, 67, 0.15);\n",
              "      fill: #174EA6;\n",
              "    }\n",
              "\n",
              "    [theme=dark] .colab-df-convert {\n",
              "      background-color: #3B4455;\n",
              "      fill: #D2E3FC;\n",
              "    }\n",
              "\n",
              "    [theme=dark] .colab-df-convert:hover {\n",
              "      background-color: #434B5C;\n",
              "      box-shadow: 0px 1px 3px 1px rgba(0, 0, 0, 0.15);\n",
              "      filter: drop-shadow(0px 1px 2px rgba(0, 0, 0, 0.3));\n",
              "      fill: #FFFFFF;\n",
              "    }\n",
              "  </style>\n",
              "\n",
              "      <script>\n",
              "        const buttonEl =\n",
              "          document.querySelector('#df-292148e9-b6e0-4370-bd60-3dfc7e3d88a8 button.colab-df-convert');\n",
              "        buttonEl.style.display =\n",
              "          google.colab.kernel.accessAllowed ? 'block' : 'none';\n",
              "\n",
              "        async function convertToInteractive(key) {\n",
              "          const element = document.querySelector('#df-292148e9-b6e0-4370-bd60-3dfc7e3d88a8');\n",
              "          const dataTable =\n",
              "            await google.colab.kernel.invokeFunction('convertToInteractive',\n",
              "                                                     [key], {});\n",
              "          if (!dataTable) return;\n",
              "\n",
              "          const docLinkHtml = 'Like what you see? Visit the ' +\n",
              "            '<a target=\"_blank\" href=https://colab.research.google.com/notebooks/data_table.ipynb>data table notebook</a>'\n",
              "            + ' to learn more about interactive tables.';\n",
              "          element.innerHTML = '';\n",
              "          dataTable['output_type'] = 'display_data';\n",
              "          await google.colab.output.renderOutput(dataTable, element);\n",
              "          const docLink = document.createElement('div');\n",
              "          docLink.innerHTML = docLinkHtml;\n",
              "          element.appendChild(docLink);\n",
              "        }\n",
              "      </script>\n",
              "    </div>\n",
              "  </div>\n",
              "  "
            ]
          },
          "metadata": {},
          "execution_count": 15
        }
      ],
      "source": [
        "df3 = pd.read_csv(\"/content/inbrainlab/Data/Economo/economo_summary_data.csv\", index_col=0)\n",
        "df3"
      ]
    },
    {
      "cell_type": "code",
      "execution_count": null,
      "metadata": {
        "id": "_9etd5ImtppS",
        "colab": {
          "base_uri": "https://localhost:8080/"
        },
        "outputId": "87440562-5c79-4f68-8200-cf8e5c8f634e"
      },
      "outputs": [
        {
          "output_type": "execute_result",
          "data": {
            "text/plain": [
              "Index(['atlas_x', 'Hemisphere', 'Lobe', 'Thickness at 10y.o.',\n",
              "       'Thickness at 80y.o.', 'Curvature', 'Layer I thickness',\n",
              "       'Layer II thickness', 'Layer III thickness', 'Layer IV thickness',\n",
              "       'Layer V thickness', 'Layer VI thickness', 'bigbrain_layer_1',\n",
              "       'bigbrain_layer_2', 'bigbrain_layer_3', 'bigbrain_layer_4',\n",
              "       'bigbrain_layer_5', 'bigbrain_layer_6', 'Global thinning',\n",
              "       'Global thinning normalized', 'structure', 'r2_spatial', 'r2_temporal',\n",
              "       'r2_complete', 'structure_name', 'atlas_y'],\n",
              "      dtype='object')"
            ]
          },
          "metadata": {},
          "execution_count": 14
        }
      ],
      "source": [
        "df3.columns"
      ]
    },
    {
      "cell_type": "markdown",
      "metadata": {
        "id": "5lqjxpjHjYDJ"
      },
      "source": [
        "## 4. Feature Selection"
      ]
    },
    {
      "cell_type": "code",
      "source": [
        "# definição dos dados para regressao\n",
        "target = \"Global thinning\"\n",
        "X = df3.select_dtypes(include='number').drop(columns =[target]) \n",
        "y = df3[target]"
      ],
      "metadata": {
        "id": "srL4PQrIZGuz"
      },
      "execution_count": null,
      "outputs": []
    },
    {
      "cell_type": "code",
      "execution_count": null,
      "metadata": {
        "id": "Qr_eodbvjcj0",
        "colab": {
          "base_uri": "https://localhost:8080/"
        },
        "outputId": "cbad1715-f9c8-44a9-db2b-b9fc873ed23e"
      },
      "outputs": [
        {
          "output_type": "stream",
          "name": "stdout",
          "text": [
            "Feature: atlas_x                   Rank: 8,  Support: False\n",
            "Feature: Hemisphere                Rank: 15,  Support: False\n",
            "Feature: Lobe                      Rank: 14,  Support: False\n",
            "Feature: Thickness at 10y.o.       Rank: 1,  Support: True\n",
            "Feature: Thickness at 80y.o.       Rank: 5,  Support: False\n",
            "Feature: Curvature                 Rank: 1,  Support: True\n",
            "Feature: Layer I thickness         Rank: 2,  Support: False\n",
            "Feature: Layer II thickness        Rank: 5,  Support: False\n",
            "Feature: Layer III thickness       Rank: 1,  Support: True\n",
            "Feature: Layer IV thickness        Rank: 3,  Support: False\n",
            "Feature: Layer V thickness         Rank: 2,  Support: False\n",
            "Feature: Layer VI thickness        Rank: 1,  Support: True\n",
            "Feature: bigbrain_layer_1          Rank: 7,  Support: False\n",
            "Feature: bigbrain_layer_2          Rank: 2,  Support: False\n",
            "Feature: bigbrain_layer_3          Rank: 2,  Support: False\n",
            "Feature: bigbrain_layer_4          Rank: 2,  Support: False\n",
            "Feature: bigbrain_layer_5          Rank: 10,  Support: False\n",
            "Feature: bigbrain_layer_6          Rank: 2,  Support: False\n",
            "Feature: Global thinning normalized Rank: 1,  Support: True\n",
            "Feature: structure                 Rank: 5,  Support: False\n",
            "Feature: r2_spatial                Rank: 13,  Support: False\n",
            "Feature: r2_temporal               Rank: 12,  Support: False\n",
            "Feature: r2_complete               Rank: 11,  Support: False\n",
            "Feature: atlas_y                   Rank: 9,  Support: False\n"
          ]
        }
      ],
      "source": [
        "# boruta metodo\n",
        "forest = RandomForestRegressor(n_jobs=-1, max_depth=20)\n",
        "forest.fit(X, y)\n",
        "feat_selector = BorutaPy(forest, n_estimators='auto', random_state=1, alpha= 0.001)\n",
        "feat_selector.fit(X.to_numpy(), y)\n",
        "\n",
        "# um jeito de ter guardar os resultados\n",
        "feature_ranks = list(zip(X.columns, \n",
        "                          feat_selector.ranking_, \n",
        "                          feat_selector.support_,\n",
        "                        ))\n",
        "for feat in feature_ranks:\n",
        "    print('Feature: {:<25} Rank: {},  Support: {}'.format(feat[0], feat[1], feat[2]))"
      ]
    },
    {
      "cell_type": "code",
      "execution_count": null,
      "metadata": {
        "id": "v6p-uazHjgFU"
      },
      "outputs": [],
      "source": [
        "# T-student, ANOVA, Kruskal\n",
        "\n",
        "#stat, p_value = stats.kruskal(g1[x],g2[x],g3[x])\n",
        "#stat, p_value = stats.f_oneway(g1[x],g2[x],g3[x])\n",
        "#stat, p_value = stats.ttest_ind(g1[x], g2[x])"
      ]
    },
    {
      "cell_type": "markdown",
      "metadata": {
        "id": "86oLtKk2ju2o"
      },
      "source": [
        "## 5. Modelagem: treinamento, predição e avaliação"
      ]
    },
    {
      "cell_type": "markdown",
      "source": [
        "Regressor"
      ],
      "metadata": {
        "id": "oFwkdTpXZlBK"
      }
    },
    {
      "cell_type": "code",
      "execution_count": null,
      "metadata": {
        "id": "Lv836bxZkKFD",
        "colab": {
          "base_uri": "https://localhost:8080/"
        },
        "outputId": "09711a39-e4b4-4cc0-c5ac-5fd12b0b0702"
      },
      "outputs": [
        {
          "output_type": "execute_result",
          "data": {
            "text/plain": [
              "0.6172150754648211"
            ]
          },
          "metadata": {},
          "execution_count": 25
        }
      ],
      "source": [
        "# separacao dos dados de treino e de teste\n",
        "X_train, X_test, y_train, y_test = train_test_split(X, y, test_size=0.3, random_state=42)\n",
        "\n",
        "# treinamento\n",
        "lgbm = LGBMRegressor()\n",
        "lgbm.fit(X_train, y_train)\n",
        "\n",
        "# teste de predição\n",
        "y_pred = lgbm.predict(X_test)\n",
        "\n",
        "# avaliação\n",
        "r2 = r2_score(y_test, y_pred)\n",
        "r2"
      ]
    },
    {
      "cell_type": "markdown",
      "source": [
        "Classificador"
      ],
      "metadata": {
        "id": "Kt9tPJVnZneM"
      }
    },
    {
      "cell_type": "code",
      "execution_count": null,
      "metadata": {
        "id": "mA-ugAHjkI_H"
      },
      "outputs": [],
      "source": [
        "# definição dos dados para classificação\n",
        "target = \"atlas_x\"\n",
        "X = df3.select_dtypes(include='number').drop(columns =[target,'atlas_y']) \n",
        "y = df3[target]"
      ]
    },
    {
      "cell_type": "code",
      "source": [
        "# separacao dos dados de treino e de teste\n",
        "X_train, X_test, y_train, y_test = train_test_split(X, y, test_size=0.3, random_state=42)\n",
        "\n",
        "# treinamento\n",
        "lgbm = LGBMClassifier()\n",
        "lgbm.fit(X_train, y_train)\n",
        "\n",
        "# teste de predição\n",
        "y_pred = lgbm.predict(X_test)\n",
        "\n",
        "# avaliação\n",
        "acc_score = accuracy_score(y_test, y_pred)\n",
        "acc_score"
      ],
      "metadata": {
        "colab": {
          "base_uri": "https://localhost:8080/"
        },
        "id": "Ei9ZTUXlZ7HQ",
        "outputId": "624e8ed8-5888-41e4-dbd4-7450fc13a151"
      },
      "execution_count": null,
      "outputs": [
        {
          "output_type": "execute_result",
          "data": {
            "text/plain": [
              "0.5789473684210527"
            ]
          },
          "metadata": {},
          "execution_count": 22
        }
      ]
    },
    {
      "cell_type": "markdown",
      "metadata": {
        "id": "Ltn0EDP8kNa5"
      },
      "source": [
        "## 6. Explicabilidade"
      ]
    },
    {
      "cell_type": "code",
      "execution_count": null,
      "metadata": {
        "id": "xrCsdy0MkRzJ",
        "colab": {
          "base_uri": "https://localhost:8080/",
          "height": 1000
        },
        "outputId": "39623337-6ac0-4e78-d61b-136bb75c443b"
      },
      "outputs": [
        {
          "output_type": "display_data",
          "data": {
            "text/plain": [
              "<Figure size 576x684 with 2 Axes>"
            ],
            "image/png": "[encoded data removed]"
          },
          "metadata": {
            "needs_background": "light"
          }
        },
        {
          "output_type": "display_data",
          "data": {
            "text/plain": [
              "<Figure size 576x684 with 1 Axes>"
            ],
            "image/png": "[encoded data removed]"
          },
          "metadata": {
            "needs_background": "light"
          }
        }
      ],
      "source": [
        "# Explicação das predições do modelo lgbm\n",
        "explainer = shap.Explainer(lgbm)\n",
        "shap_values = explainer(X)\n",
        "\n",
        "# Graficos\n",
        "shap.summary_plot(shap_values)\n",
        "shap.summary_plot(shap_values, plot_type='bar',color='purple')"
      ]
    },
    {
      "cell_type": "code",
      "execution_count": null,
      "metadata": {
        "id": "zLjs6vP9kTXn",
        "colab": {
          "base_uri": "https://localhost:8080/",
          "height": 337
        },
        "outputId": "e65b2bce-672f-4380-da30-83dbf7ac23c9"
      },
      "outputs": [
        {
          "output_type": "display_data",
          "data": {
            "text/plain": [
              "<Figure size 540x360 with 3 Axes>"
            ],
            "image/png": "[encoded data removed]"
          },
          "metadata": {
            "needs_background": "light"
          }
        }
      ],
      "source": [
        "shap.plots.scatter(shap_values[:, 'Global thinning normalized'], color=shap_values[:,'atlas_x'], dot_size=5, alpha =0.8)"
      ]
    },
    {
      "cell_type": "markdown",
      "metadata": {
        "id": "eNvI-XTikjwG"
      },
      "source": [
        "# Exercício"
      ]
    },
    {
      "cell_type": "markdown",
      "metadata": {
        "id": "gk5m3lTbmr9f"
      },
      "source": [
        "Faça uma análise escolhendo alguns dos métodos anteriores e/ou variações que vocês conhecem. Fale sua hipotese e explique suas decisões matemáticas, tendo em vista as caracteristicas de cada método. Adicione ou altere pelo menos 6 linhas de código. Seja breve e simples. Por exemplo, você pode acrescentar graficos, concatenar mais dados do freesurfer ou alterar um dos algoritimos de machine learning. Deu algum problema no código ou a nivel conceitual, use https://chat.openai.com/, https://stackoverflow.com/ e https://www.google.com/. "
      ]
    }
  ],
  "metadata": {
    "colab": {
      "provenance": []
    },
    "kernelspec": {
      "display_name": "Python 3",
      "name": "python3"
    },
    "language_info": {
      "name": "python"
    }
  },
  "nbformat": 4,
  "nbformat_minor": 0
}